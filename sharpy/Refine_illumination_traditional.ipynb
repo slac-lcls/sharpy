{
 "cells": [
  {
   "cell_type": "code",
   "execution_count": 1,
   "id": "d0d68faf-bfe8-4f50-98a9-3f19104233a8",
   "metadata": {},
   "outputs": [
    {
     "name": "stdout",
     "output_type": "stream",
     "text": [
      "type0 <class 'cupy.ndarray'> int64\n"
     ]
    }
   ],
   "source": [
    "#simulate the data\n",
    "%run -i ptycho_simulate.py "
   ]
  },
  {
   "cell_type": "code",
   "execution_count": null,
   "id": "341d87b5-5ae4-4ab7-be93-c7f15c64987a",
   "metadata": {},
   "outputs": [],
   "source": [
    "#illumination refinement with AP and traditional probe update \n",
    "fname_in =\"refine_illum.h5\"\n",
    "%run -i ptycho_reconstruct.py "
   ]
  },
  {
   "cell_type": "code",
   "execution_count": 1,
   "id": "be3b1fb6-9c19-4148-ad42-e44ee0e43256",
   "metadata": {},
   "outputs": [
    {
     "data": {
      "text/plain": [
       "'/cds/home/y/yn754/Git/sharpy/sharpy'"
      ]
     },
     "execution_count": 1,
     "metadata": {},
     "output_type": "execute_result"
    }
   ],
   "source": [
    "pwd"
   ]
  },
  {
   "cell_type": "code",
   "execution_count": null,
   "id": "68adb827-0c20-4d2c-a975-48774fe6a629",
   "metadata": {},
   "outputs": [],
   "source": []
  }
 ],
 "metadata": {
  "kernelspec": {
   "display_name": "Python(sharpy_cuda)",
   "language": "python",
   "name": "sharpy_cuda"
  },
  "language_info": {
   "codemirror_mode": {
    "name": "ipython",
    "version": 3
   },
   "file_extension": ".py",
   "mimetype": "text/x-python",
   "name": "python",
   "nbconvert_exporter": "python",
   "pygments_lexer": "ipython3",
   "version": "3.11.4"
  }
 },
 "nbformat": 4,
 "nbformat_minor": 5
}
